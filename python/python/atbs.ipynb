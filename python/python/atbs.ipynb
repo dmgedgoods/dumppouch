{
 "cells": [
  {
   "cell_type": "code",
   "execution_count": 31,
   "metadata": {},
   "outputs": [
    {
     "name": "stdout",
     "output_type": "stream",
     "text": [
      "[x] Trying to bind to :: on port 0\n",
      "[x] Trying to bind to :: on port 0: Trying ::\n",
      "[+] Trying to bind to :: on port 0: Done\n",
      "[x] Waiting for connections on :::61917\n",
      "[x] Opening connection to localhost on port 61917\n",
      "[x] Opening connection to localhost on port 61917: Trying ::1\n",
      "[+] Opening connection to localhost on port 61917: Done\n",
      "[+] Waiting for connections on :::61917: Got connection from ::1 on port 61918\n"
     ]
    },
    {
     "data": {
      "text/plain": [
       "b'hello'"
      ]
     },
     "execution_count": 31,
     "metadata": {},
     "output_type": "execute_result"
    }
   ],
   "source": [
    "from pwn import *\n",
    "\n",
    "l = listen()\n",
    "r = remote('localhost', l.lport)\n",
    "c = l.wait_for_connection()\n",
    "r.send(b'hello')\n",
    "c.recv()"
   ]
  },
  {
   "cell_type": "code",
   "execution_count": 32,
   "metadata": {},
   "outputs": [
    {
     "name": "stdout",
     "output_type": "stream",
     "text": [
      "Wrong name\n"
     ]
    }
   ],
   "source": [
    "name = input('Enter your name:')\n",
    "\n",
    "if name != 'Mary':\n",
    "    print('Wrong name')\n",
    "else:\n",
    "    password = input('Hello, Mary. What is the password?')\n",
    "    if password == 'swordfish':\n",
    "        print('Access Granted')\n",
    "    else:\n",
    "        print('Wrong password')\n",
    "\n"
   ]
  },
  {
   "cell_type": "code",
   "execution_count": 46,
   "metadata": {},
   "outputs": [
    {
     "name": "stdout",
     "output_type": "stream",
     "text": [
      "3\n"
     ]
    }
   ],
   "source": [
    "name = input('Enter your name:')\n",
    "\n",
    "print(len(name))"
   ]
  },
  {
   "cell_type": "code",
   "execution_count": 56,
   "metadata": {},
   "outputs": [
    {
     "data": {
      "text/plain": [
       "'AliceAliceAliceAliceAlice'"
      ]
     },
     "execution_count": 56,
     "metadata": {},
     "output_type": "execute_result"
    }
   ],
   "source": [
    "'Alice' + 'Bob'\n",
    "'Alice' + '42'\n",
    "'Alice' * 5\n"
   ]
  },
  {
   "cell_type": "code",
   "execution_count": 66,
   "metadata": {},
   "outputs": [
    {
     "data": {
      "text/plain": [
       "42"
      ]
     },
     "execution_count": 66,
     "metadata": {},
     "output_type": "execute_result"
    }
   ],
   "source": [
    "spam = 40 \n",
    "eggs = 2 \n",
    "spam + eggs + spam\n",
    "spam = spam + 2\n",
    "spam"
   ]
  },
  {
   "cell_type": "code",
   "execution_count": 69,
   "metadata": {},
   "outputs": [
    {
     "name": "stdout",
     "output_type": "stream",
     "text": [
      "Hello, world!\n",
      "What is your name?\n",
      "It is good to meet you Shawn\n",
      "The length of your name is:\n",
      "5\n",
      "You will be 42 in a year.\n"
     ]
    }
   ],
   "source": [
    "# This program will say hello and ask for your name. \n",
    "print('Hello, world!')\n",
    "print('What is your name?') # ask for their name\n",
    "myName = input()\n",
    "print('It is good to meet you ' + myName)\n",
    "print('The length of your name is:')\n",
    "print(len(myName))\n",
    "age = input('What is your age?')\n",
    "print('You will be ' + str(int(age) + 1) + ' in a year.')"
   ]
  },
  {
   "cell_type": "code",
   "execution_count": 72,
   "metadata": {},
   "outputs": [
    {
     "data": {
      "text/plain": [
       "'shawn'"
      ]
     },
     "execution_count": 72,
     "metadata": {},
     "output_type": "execute_result"
    }
   ],
   "source": [
    "spam = input()\n",
    "spam"
   ]
  },
  {
   "cell_type": "code",
   "execution_count": 88,
   "metadata": {},
   "outputs": [
    {
     "data": {
      "text/plain": [
       "[(10, 'Spring'), (11, 'Summer'), (12, 'Fall'), (13, 'Winter')]"
      ]
     },
     "execution_count": 88,
     "metadata": {},
     "output_type": "execute_result"
    }
   ],
   "source": [
    "def enumerate(iterable, start=0):\n",
    "    n = start\n",
    "    for elem in iterable:\n",
    "        yield n, elem\n",
    "        n += 1\n",
    "        \n",
    "seasons = ['Spring', 'Summer', 'Fall', 'Winter']\n",
    "list(enumerate(seasons, start=10))"
   ]
  },
  {
   "cell_type": "code",
   "execution_count": 93,
   "metadata": {},
   "outputs": [
    {
     "data": {
      "text/plain": [
       "True"
      ]
     },
     "execution_count": 93,
     "metadata": {},
     "output_type": "execute_result"
    }
   ],
   "source": [
    "True or True\n",
    "False or True\n",
    "(4 * 4 == 16) or (4 * 4 == 8)"
   ]
  },
  {
   "cell_type": "code",
   "execution_count": 95,
   "metadata": {},
   "outputs": [
    {
     "name": "stdout",
     "output_type": "stream",
     "text": [
      "Hello Mary\n",
      "Access granted\n"
     ]
    }
   ],
   "source": [
    "name = 'Mary'\n",
    "password = 'swordfish'\n",
    "\n",
    "if name == 'Mary':\n",
    "    print('Hello Mary')\n",
    "    if password == 'swordfish':\n",
    "        print('Access granted')\n",
    "    else:\n",
    "        print('Wrong password')\n",
    "        "
   ]
  },
  {
   "cell_type": "code",
   "execution_count": 100,
   "metadata": {},
   "outputs": [
    {
     "name": "stdout",
     "output_type": "stream",
     "text": [
      "Hello, stranger\n"
     ]
    }
   ],
   "source": [
    "name = input('Enter your name:')\n",
    "\n",
    "if name == 'Alice':\n",
    "    print('Hi, Alice')\n",
    "else:\n",
    "    print('Hello, stranger')"
   ]
  },
  {
   "cell_type": "code",
   "execution_count": 123,
   "metadata": {},
   "outputs": [
    {
     "name": "stdout",
     "output_type": "stream",
     "text": [
      "Sorry grannie, you arnt alice\n"
     ]
    }
   ],
   "source": [
    "name = 'Al'\n",
    "age = 3000\n",
    "\n",
    "if name == 'Alice':\n",
    "    print('Hi, ' + name)\n",
    "elif age < 12:\n",
    "    print('You are not Alice, kiddo.')\n",
    "elif age > 100:\n",
    "    print('Sorry grannie, you arnt alice')\n",
    "elif age > 2000:\n",
    "    print('Unlike you, Alice is not an undead, immortal vampire.')"
   ]
  },
  {
   "cell_type": "code",
   "execution_count": 125,
   "metadata": {},
   "outputs": [
    {
     "name": "stdout",
     "output_type": "stream",
     "text": [
      "Hello, world.\n",
      "Hello, world.\n",
      "Hello, world.\n",
      "Hello, world.\n",
      "Hello, world.\n"
     ]
    }
   ],
   "source": [
    "spam = 0 \n",
    "while spam < 5:\n",
    "    print('Hello, world.')\n",
    "    spam = spam + 1\n",
    "    "
   ]
  },
  {
   "cell_type": "code",
   "execution_count": null,
   "metadata": {},
   "outputs": [
    {
     "ename": "",
     "evalue": "",
     "output_type": "error",
     "traceback": [
      "\u001b[1;31mRunning cells with '/opt/homebrew/bin/python3' requires the ipykernel package.\n",
      "\u001b[1;31mRun the following command to install 'ipykernel' into the Python environment. \n",
      "\u001b[1;31mCommand: '/opt/homebrew/bin/python3 -m pip install ipykernel -U --user --force-reinstall'"
     ]
    }
   ],
   "source": [
    "name = str(input())\n",
    "age = int(input())\n",
    "\n",
    "print(f'Hello my name is {name} and I am {age} years old')"
   ]
  }
 ],
 "metadata": {
  "kernelspec": {
   "display_name": "Python 3",
   "language": "python",
   "name": "python3"
  },
  "language_info": {
   "codemirror_mode": {
    "name": "ipython",
    "version": 3
   },
   "file_extension": ".py",
   "mimetype": "text/x-python",
   "name": "python",
   "nbconvert_exporter": "python",
   "pygments_lexer": "ipython3",
   "version": "3.12.3"
  }
 },
 "nbformat": 4,
 "nbformat_minor": 2
}
