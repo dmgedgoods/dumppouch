{
 "cells": [
  {
   "cell_type": "code",
   "execution_count": 31,
   "metadata": {},
   "outputs": [
    {
     "name": "stdout",
     "output_type": "stream",
     "text": [
      "[x] Trying to bind to :: on port 0\n",
      "[x] Trying to bind to :: on port 0: Trying ::\n",
      "[+] Trying to bind to :: on port 0: Done\n",
      "[x] Waiting for connections on :::61917\n",
      "[x] Opening connection to localhost on port 61917\n",
      "[x] Opening connection to localhost on port 61917: Trying ::1\n",
      "[+] Opening connection to localhost on port 61917: Done\n",
      "[+] Waiting for connections on :::61917: Got connection from ::1 on port 61918\n"
     ]
    },
    {
     "data": {
      "text/plain": [
       "b'hello'"
      ]
     },
     "execution_count": 31,
     "metadata": {},
     "output_type": "execute_result"
    }
   ],
   "source": [
    "from pwn import *\n",
    "\n",
    "l = listen()\n",
    "r = remote('localhost', l.lport)\n",
    "c = l.wait_for_connection()\n",
    "r.send(b'hello')\n",
    "c.recv()"
   ]
  },
  {
   "cell_type": "code",
   "execution_count": 32,
   "metadata": {},
   "outputs": [
    {
     "name": "stdout",
     "output_type": "stream",
     "text": [
      "Wrong name\n"
     ]
    }
   ],
   "source": [
    "name = input('Enter your name:')\n",
    "\n",
    "if name != 'Mary':\n",
    "    print('Wrong name')\n",
    "else:\n",
    "    password = input('Hello, Mary. What is the password?')\n",
    "    if password == 'swordfish':\n",
    "        print('Access Granted')\n",
    "    else:\n",
    "        print('Wrong password')\n",
    "\n"
   ]
  },
  {
   "cell_type": "code",
   "execution_count": 46,
   "metadata": {},
   "outputs": [
    {
     "name": "stdout",
     "output_type": "stream",
     "text": [
      "3\n"
     ]
    }
   ],
   "source": [
    "name = input('Enter your name:')\n",
    "\n",
    "print(len(name))"
   ]
  },
  {
   "cell_type": "code",
   "execution_count": 56,
   "metadata": {},
   "outputs": [
    {
     "data": {
      "text/plain": [
       "'AliceAliceAliceAliceAlice'"
      ]
     },
     "execution_count": 56,
     "metadata": {},
     "output_type": "execute_result"
    }
   ],
   "source": [
    "'Alice' + 'Bob'\n",
    "'Alice' + '42'\n",
    "'Alice' * 5\n"
   ]
  },
  {
   "cell_type": "code",
   "execution_count": 66,
   "metadata": {},
   "outputs": [
    {
     "data": {
      "text/plain": [
       "42"
      ]
     },
     "execution_count": 66,
     "metadata": {},
     "output_type": "execute_result"
    }
   ],
   "source": [
    "spam = 40 \n",
    "eggs = 2 \n",
    "spam + eggs + spam\n",
    "spam = spam + 2\n",
    "spam"
   ]
  },
  {
   "cell_type": "code",
   "execution_count": 69,
   "metadata": {},
   "outputs": [
    {
     "name": "stdout",
     "output_type": "stream",
     "text": [
      "Hello, world!\n",
      "What is your name?\n",
      "It is good to meet you Shawn\n",
      "The length of your name is:\n",
      "5\n",
      "You will be 42 in a year.\n"
     ]
    }
   ],
   "source": [
    "# This program will say hello and ask for your name. \n",
    "print('Hello, world!')\n",
    "print('What is your name?') # ask for their name\n",
    "myName = input()\n",
    "print('It is good to meet you ' + myName)\n",
    "print('The length of your name is:')\n",
    "print(len(myName))\n",
    "age = input('What is your age?')\n",
    "print('You will be ' + str(int(age) + 1) + ' in a year.')"
   ]
  },
  {
   "cell_type": "code",
   "execution_count": 72,
   "metadata": {},
   "outputs": [
    {
     "data": {
      "text/plain": [
       "'shawn'"
      ]
     },
     "execution_count": 72,
     "metadata": {},
     "output_type": "execute_result"
    }
   ],
   "source": [
    "spam = input()\n",
    "spam"
   ]
  },
  {
   "cell_type": "code",
   "execution_count": 88,
   "metadata": {},
   "outputs": [
    {
     "data": {
      "text/plain": [
       "[(10, 'Spring'), (11, 'Summer'), (12, 'Fall'), (13, 'Winter')]"
      ]
     },
     "execution_count": 88,
     "metadata": {},
     "output_type": "execute_result"
    }
   ],
   "source": [
    "def enumerate(iterable, start=0):\n",
    "    n = start\n",
    "    for elem in iterable:\n",
    "        yield n, elem\n",
    "        n += 1\n",
    "        \n",
    "seasons = ['Spring', 'Summer', 'Fall', 'Winter']\n",
    "list(enumerate(seasons, start=10))"
   ]
  },
  {
   "cell_type": "code",
   "execution_count": 93,
   "metadata": {},
   "outputs": [
    {
     "data": {
      "text/plain": [
       "True"
      ]
     },
     "execution_count": 93,
     "metadata": {},
     "output_type": "execute_result"
    }
   ],
   "source": [
    "True or True\n",
    "False or True\n",
    "(4 * 4 == 16) or (4 * 4 == 8)"
   ]
  },
  {
   "cell_type": "code",
   "execution_count": 95,
   "metadata": {},
   "outputs": [
    {
     "name": "stdout",
     "output_type": "stream",
     "text": [
      "Hello Mary\n",
      "Access granted\n"
     ]
    }
   ],
   "source": [
    "name = 'Mary'\n",
    "password = 'swordfish'\n",
    "\n",
    "if name == 'Mary':\n",
    "    print('Hello Mary')\n",
    "    if password == 'swordfish':\n",
    "        print('Access granted')\n",
    "    else:\n",
    "        print('Wrong password')\n",
    "        "
   ]
  },
  {
   "cell_type": "code",
   "execution_count": 100,
   "metadata": {},
   "outputs": [
    {
     "name": "stdout",
     "output_type": "stream",
     "text": [
      "Hello, stranger\n"
     ]
    }
   ],
   "source": [
    "name = input('Enter your name:')\n",
    "\n",
    "if name == 'Alice':\n",
    "    print('Hi, Alice')\n",
    "else:\n",
    "    print('Hello, stranger')"
   ]
  },
  {
   "cell_type": "code",
   "execution_count": 1,
   "metadata": {},
   "outputs": [
    {
     "name": "stdout",
     "output_type": "stream",
     "text": [
      "Sorry grannie, you arnt alice\n"
     ]
    }
   ],
   "source": [
    "name = 'Al'\n",
    "age = 3000\n",
    "\n",
    "if name == 'Alice':\n",
    "    print('Hi, ' + name)\n",
    "elif age < 12:\n",
    "    print('You are not Alice, kiddo.')\n",
    "elif age > 100:\n",
    "    print('Sorry grannie, you arnt alice')\n",
    "elif age > 2000:\n",
    "    print('Unlike you, Alice is not an undead, immortal vampire.')"
   ]
  },
  {
   "cell_type": "code",
   "execution_count": 2,
   "metadata": {},
   "outputs": [
    {
     "name": "stdout",
     "output_type": "stream",
     "text": [
      "Hello, world.\n",
      "Hello, world.\n",
      "Hello, world.\n",
      "Hello, world.\n",
      "Hello, world.\n"
     ]
    }
   ],
   "source": [
    "spam = 0 \n",
    "while spam < 5:\n",
    "    print('Hello, world.')\n",
    "    spam = spam + 1\n",
    "    "
   ]
  },
  {
   "cell_type": "code",
   "execution_count": 33,
   "metadata": {},
   "outputs": [
    {
     "name": "stdout",
     "output_type": "stream",
     "text": [
      "61722783\n",
      "185168350\n",
      "92584175\n",
      "277752526\n",
      "138876263\n",
      "416628790\n",
      "208314395\n",
      "624943186\n",
      "312471593\n",
      "937414780\n",
      "468707390\n",
      "234353695\n",
      "703061086\n",
      "351530543\n",
      "1054591630\n",
      "527295815\n",
      "1581887446\n",
      "790943723\n",
      "2372831170\n",
      "1186415585\n",
      "3559246756\n",
      "1779623378\n",
      "889811689\n",
      "2669435068\n",
      "1334717534\n",
      "667358767\n",
      "2002076302\n",
      "1001038151\n",
      "3003114454\n",
      "1501557227\n",
      "4504671682\n",
      "2252335841\n",
      "6757007524\n",
      "3378503762\n",
      "1689251881\n",
      "5067755644\n",
      "2533877822\n",
      "1266938911\n",
      "3800816734\n",
      "1900408367\n",
      "5701225102\n",
      "2850612551\n",
      "8551837654\n",
      "4275918827\n",
      "12827756482\n",
      "6413878241\n",
      "19241634724\n",
      "9620817362\n",
      "4810408681\n",
      "14431226044\n",
      "7215613022\n",
      "3607806511\n",
      "10823419534\n",
      "5411709767\n",
      "16235129302\n",
      "8117564651\n",
      "24352693954\n",
      "12176346977\n",
      "36529040932\n",
      "18264520466\n",
      "9132260233\n",
      "27396780700\n",
      "13698390350\n",
      "6849195175\n",
      "20547585526\n",
      "10273792763\n",
      "30821378290\n",
      "15410689145\n",
      "46232067436\n",
      "23116033718\n",
      "11558016859\n",
      "34674050578\n",
      "17337025289\n",
      "52011075868\n",
      "26005537934\n",
      "13002768967\n",
      "39008306902\n",
      "19504153451\n",
      "58512460354\n",
      "29256230177\n",
      "87768690532\n",
      "43884345266\n",
      "21942172633\n",
      "65826517900\n",
      "32913258950\n",
      "16456629475\n",
      "49369888426\n",
      "24684944213\n",
      "74054832640\n",
      "37027416320\n",
      "18513708160\n",
      "9256854080\n",
      "4628427040\n",
      "2314213520\n",
      "1157106760\n",
      "578553380\n",
      "289276690\n",
      "144638345\n",
      "433915036\n",
      "216957518\n",
      "108478759\n",
      "325436278\n",
      "162718139\n",
      "488154418\n",
      "244077209\n",
      "732231628\n",
      "366115814\n",
      "183057907\n",
      "549173722\n",
      "274586861\n",
      "823760584\n",
      "411880292\n",
      "205940146\n",
      "102970073\n",
      "308910220\n",
      "154455110\n",
      "77227555\n",
      "231682666\n",
      "115841333\n",
      "347524000\n",
      "173762000\n",
      "86881000\n",
      "43440500\n",
      "21720250\n",
      "10860125\n",
      "32580376\n",
      "16290188\n",
      "8145094\n",
      "4072547\n",
      "12217642\n",
      "6108821\n",
      "18326464\n",
      "9163232\n",
      "4581616\n",
      "2290808\n",
      "1145404\n",
      "572702\n",
      "286351\n",
      "859054\n",
      "429527\n",
      "1288582\n",
      "644291\n",
      "1932874\n",
      "966437\n",
      "2899312\n",
      "1449656\n",
      "724828\n",
      "362414\n",
      "181207\n",
      "543622\n",
      "271811\n",
      "815434\n",
      "407717\n",
      "1223152\n",
      "611576\n",
      "305788\n",
      "152894\n",
      "76447\n",
      "229342\n",
      "114671\n",
      "344014\n",
      "172007\n",
      "516022\n",
      "258011\n",
      "774034\n",
      "387017\n",
      "1161052\n",
      "580526\n",
      "290263\n",
      "870790\n",
      "435395\n",
      "1306186\n",
      "653093\n",
      "1959280\n",
      "979640\n",
      "489820\n",
      "244910\n",
      "122455\n",
      "367366\n",
      "183683\n",
      "551050\n",
      "275525\n",
      "826576\n",
      "413288\n",
      "206644\n",
      "103322\n",
      "51661\n",
      "154984\n",
      "77492\n",
      "38746\n",
      "19373\n",
      "58120\n",
      "29060\n",
      "14530\n",
      "7265\n",
      "21796\n",
      "10898\n",
      "5449\n",
      "16348\n",
      "8174\n",
      "4087\n",
      "12262\n",
      "6131\n",
      "18394\n",
      "9197\n",
      "27592\n",
      "13796\n",
      "6898\n",
      "3449\n",
      "10348\n",
      "5174\n",
      "2587\n",
      "7762\n",
      "3881\n",
      "11644\n",
      "5822\n",
      "2911\n",
      "8734\n",
      "4367\n",
      "13102\n",
      "6551\n",
      "19654\n",
      "9827\n",
      "29482\n",
      "14741\n",
      "44224\n",
      "22112\n",
      "11056\n",
      "5528\n",
      "2764\n",
      "1382\n",
      "691\n",
      "2074\n",
      "1037\n",
      "3112\n",
      "1556\n",
      "778\n",
      "389\n",
      "1168\n",
      "584\n",
      "292\n",
      "146\n",
      "73\n",
      "220\n",
      "110\n",
      "55\n",
      "166\n",
      "83\n",
      "250\n",
      "125\n",
      "376\n",
      "188\n",
      "94\n",
      "47\n",
      "142\n",
      "71\n",
      "214\n",
      "107\n",
      "322\n",
      "161\n",
      "484\n",
      "242\n",
      "121\n",
      "364\n",
      "182\n",
      "91\n",
      "274\n",
      "137\n",
      "412\n",
      "206\n",
      "103\n",
      "310\n",
      "155\n",
      "466\n",
      "233\n",
      "700\n",
      "350\n",
      "175\n",
      "526\n",
      "263\n",
      "790\n",
      "395\n",
      "1186\n",
      "593\n",
      "1780\n",
      "890\n",
      "445\n",
      "1336\n",
      "668\n",
      "334\n",
      "167\n",
      "502\n",
      "251\n",
      "754\n",
      "377\n",
      "1132\n",
      "566\n",
      "283\n",
      "850\n",
      "425\n",
      "1276\n",
      "638\n",
      "319\n",
      "958\n",
      "479\n",
      "1438\n",
      "719\n",
      "2158\n",
      "1079\n",
      "3238\n",
      "1619\n",
      "4858\n",
      "2429\n",
      "7288\n",
      "3644\n",
      "1822\n",
      "911\n",
      "2734\n",
      "1367\n",
      "4102\n",
      "2051\n",
      "6154\n",
      "3077\n",
      "9232\n",
      "4616\n",
      "2308\n",
      "1154\n",
      "577\n",
      "1732\n",
      "866\n",
      "433\n",
      "1300\n",
      "650\n",
      "325\n",
      "976\n",
      "488\n",
      "244\n",
      "122\n",
      "61\n",
      "184\n",
      "92\n",
      "46\n",
      "23\n",
      "70\n",
      "35\n",
      "106\n",
      "53\n",
      "160\n",
      "80\n",
      "40\n",
      "20\n",
      "10\n",
      "5\n",
      "16\n",
      "8\n",
      "4\n",
      "2\n",
      "1\n"
     ]
    }
   ],
   "source": [
    "def collatz():\n",
    "    number = int(input('Enter a number: '))\n",
    "    while number != 1:\n",
    "        if number % 2 == 0:\n",
    "            number = number // 2\n",
    "        else:\n",
    "            number = 3 * number + 1\n",
    "        print(number)\n",
    "\n",
    "collatz()\n"
   ]
  },
  {
   "cell_type": "code",
   "execution_count": null,
   "metadata": {},
   "outputs": [],
   "source": []
  },
  {
   "cell_type": "code",
   "execution_count": 35,
   "metadata": {},
   "outputs": [
    {
     "name": "stdout",
     "output_type": "stream",
     "text": [
      "1\n",
      "2\n",
      "3 fizz\n",
      "4\n",
      "5 buzz\n",
      "6 fizz\n",
      "7\n",
      "8\n",
      "9 fizz\n",
      "10 buzz\n",
      "11\n",
      "12 fizz\n",
      "13\n",
      "14\n",
      "15 fizzbuzz\n",
      "16\n",
      "17\n",
      "18 fizz\n",
      "19\n",
      "20 buzz\n",
      "21 fizz\n",
      "22\n",
      "23\n",
      "24 fizz\n",
      "25 buzz\n",
      "26\n",
      "27 fizz\n",
      "28\n",
      "29\n",
      "30 fizzbuzz\n",
      "31\n",
      "32\n",
      "33 fizz\n",
      "34\n",
      "35 buzz\n",
      "36 fizz\n",
      "37\n",
      "38\n",
      "39 fizz\n",
      "40 buzz\n",
      "41\n",
      "42 fizz\n",
      "43\n",
      "44\n",
      "45 fizzbuzz\n",
      "46\n",
      "47\n",
      "48 fizz\n",
      "49\n",
      "50 buzz\n",
      "51 fizz\n",
      "52\n",
      "53\n",
      "54 fizz\n",
      "55 buzz\n",
      "56\n",
      "57 fizz\n",
      "58\n",
      "59\n",
      "60 fizzbuzz\n",
      "61\n",
      "62\n",
      "63 fizz\n",
      "64\n",
      "65 buzz\n",
      "66 fizz\n",
      "67\n",
      "68\n",
      "69 fizz\n",
      "70 buzz\n",
      "71\n",
      "72 fizz\n",
      "73\n",
      "74\n",
      "75 fizzbuzz\n",
      "76\n",
      "77\n",
      "78 fizz\n",
      "79\n",
      "80 buzz\n",
      "81 fizz\n",
      "82\n",
      "83\n",
      "84 fizz\n",
      "85 buzz\n",
      "86\n",
      "87 fizz\n",
      "88\n",
      "89\n",
      "90 fizzbuzz\n",
      "91\n",
      "92\n",
      "93 fizz\n",
      "94\n",
      "95 buzz\n",
      "96 fizz\n",
      "97\n",
      "98\n",
      "99 fizz\n",
      "100 buzz\n"
     ]
    }
   ],
   "source": [
    "# I actually wrote this\n",
    "for i in range(1, 101):\n",
    "    if i % 3 == 0 and i % 5 ==0:\n",
    "        print(str(i) + ' fizzbuzz')\n",
    "    elif i % 3 == 0:\n",
    "        print(str(i) + ' fizz')\n",
    "    elif i % 5 == 0:\n",
    "        print(str(i) + ' buzz')\n",
    "    else:\n",
    "        print(i)"
   ]
  },
  {
   "cell_type": "code",
   "execution_count": null,
   "metadata": {},
   "outputs": [],
   "source": []
  }
 ],
 "metadata": {
  "kernelspec": {
   "display_name": "Python 3",
   "language": "python",
   "name": "python3"
  },
  "language_info": {
   "codemirror_mode": {
    "name": "ipython",
    "version": 3
   },
   "file_extension": ".py",
   "mimetype": "text/x-python",
   "name": "python",
   "nbconvert_exporter": "python",
   "pygments_lexer": "ipython3",
   "version": "3.12.4"
  }
 },
 "nbformat": 4,
 "nbformat_minor": 2
}
